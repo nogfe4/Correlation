{
 "cells": [
  {
   "cell_type": "code",
   "execution_count": 92,
   "id": "f3cf1c46",
   "metadata": {},
   "outputs": [],
   "source": [
    "import pandas as pd \n",
    "import numpy as np  \n",
    "import statistics as sts\n"
   ]
  },
  {
   "cell_type": "code",
   "execution_count": 94,
   "id": "6ca424db",
   "metadata": {},
   "outputs": [],
   "source": [
    "sample = pd.DataFrame({ \n",
    "    'a': [100, 25, 2.5],\n",
    "    'b': [95, 83, 3339],\n",
    "    'c': [64, 34, 17],\n",
    "})  \n"
   ]
  },
  {
   "cell_type": "code",
   "execution_count": 65,
   "id": "68de6889",
   "metadata": {},
   "outputs": [
    {
     "data": {
      "text/html": [
       "<div>\n",
       "<style scoped>\n",
       "    .dataframe tbody tr th:only-of-type {\n",
       "        vertical-align: middle;\n",
       "    }\n",
       "\n",
       "    .dataframe tbody tr th {\n",
       "        vertical-align: top;\n",
       "    }\n",
       "\n",
       "    .dataframe thead th {\n",
       "        text-align: right;\n",
       "    }\n",
       "</style>\n",
       "<table border=\"1\" class=\"dataframe\">\n",
       "  <thead>\n",
       "    <tr style=\"text-align: right;\">\n",
       "      <th></th>\n",
       "      <th>a</th>\n",
       "      <th>b</th>\n",
       "      <th>c</th>\n",
       "    </tr>\n",
       "  </thead>\n",
       "  <tbody>\n",
       "    <tr>\n",
       "      <th>0</th>\n",
       "      <td>100.0</td>\n",
       "      <td>95</td>\n",
       "      <td>64</td>\n",
       "    </tr>\n",
       "    <tr>\n",
       "      <th>1</th>\n",
       "      <td>25.0</td>\n",
       "      <td>83</td>\n",
       "      <td>34</td>\n",
       "    </tr>\n",
       "    <tr>\n",
       "      <th>2</th>\n",
       "      <td>2.5</td>\n",
       "      <td>3339</td>\n",
       "      <td>17</td>\n",
       "    </tr>\n",
       "  </tbody>\n",
       "</table>\n",
       "</div>"
      ],
      "text/plain": [
       "       a     b   c\n",
       "0  100.0    95  64\n",
       "1   25.0    83  34\n",
       "2    2.5  3339  17"
      ]
     },
     "execution_count": 65,
     "metadata": {},
     "output_type": "execute_result"
    }
   ],
   "source": [
    "sample"
   ]
  },
  {
   "cell_type": "code",
   "execution_count": 66,
   "id": "74da2faf",
   "metadata": {},
   "outputs": [],
   "source": [
    "med_a = sts.mean(sample['a'])\n",
    "med_b = sts.mean(sample['b'])\n",
    "med_c = sts.mean(sample['c'])\n"
   ]
  },
  {
   "cell_type": "code",
   "execution_count": 67,
   "id": "42674c70",
   "metadata": {},
   "outputs": [],
   "source": [
    "desv_a = sts.stdev(sample['a']) \n",
    "desv_b = sts.stdev(sample['b'])\n",
    "desv_c = sts.stdev(sample['c'])"
   ]
  },
  {
   "cell_type": "code",
   "execution_count": 68,
   "id": "894cf68d",
   "metadata": {},
   "outputs": [],
   "source": [
    "cov_aa = sts.covariance(sample['a'], sample['a']) \n",
    "cov_ab = sts.covariance(sample['a'], sample['b'])\n",
    "cov_ac = sts.covariance(sample['a'], sample['c'])"
   ]
  },
  {
   "cell_type": "code",
   "execution_count": 69,
   "id": "5f639cd5",
   "metadata": {},
   "outputs": [],
   "source": [
    "cov_ba = sts.covariance(sample['b'], sample['a']) \n",
    "cov_bb = sts.covariance(sample['b'], sample['b'])\n",
    "cov_bc = sts.covariance(sample['b'], sample['c'])\n"
   ]
  },
  {
   "cell_type": "code",
   "execution_count": 70,
   "id": "f5495d48",
   "metadata": {},
   "outputs": [],
   "source": [
    "cov_ca = sts.covariance(sample['c'], sample['a']) \n",
    "cov_cb = sts.covariance(sample['c'], sample['b'])\n",
    "cov_cc = sts.covariance(sample['c'], sample['c'])"
   ]
  },
  {
   "cell_type": "markdown",
   "id": "7368506d",
   "metadata": {},
   "source": [
    "**Podemos pegar o módulo correlation da biblioteca statistics mesmo ou pegar a covariância e dividir pelo produto do desvio padrão**\n",
    "\n",
    " *Farei das duas formas*"
   ]
  },
  {
   "cell_type": "markdown",
   "id": "7acbdfcc",
   "metadata": {},
   "source": [
    "*Usando a biblioteca statistics*"
   ]
  },
  {
   "cell_type": "code",
   "execution_count": 71,
   "id": "09487793",
   "metadata": {},
   "outputs": [],
   "source": [
    "corr_aa = sts.correlation(sample['a'], sample['a']) \n",
    "corr_ab = sts.correlation(sample['a'], sample['b'])\n",
    "corr_ac = sts.correlation(sample['a'], sample['c']) "
   ]
  },
  {
   "cell_type": "code",
   "execution_count": 72,
   "id": "9d1d6901",
   "metadata": {},
   "outputs": [],
   "source": [
    "corr_ba = sts.correlation(sample['b'], sample['a']) \n",
    "corr_bb = sts.correlation(sample['b'], sample['b'])\n",
    "corr_bc = sts.correlation(sample['b'], sample['c'])"
   ]
  },
  {
   "cell_type": "code",
   "execution_count": 73,
   "id": "13331523",
   "metadata": {},
   "outputs": [],
   "source": [
    "corr_ca = sts.correlation(sample['c'], sample['a']) \n",
    "corr_cb = sts.correlation(sample['c'], sample['b'])\n",
    "corr_cc = sts.correlation(sample['c'], sample['c']) "
   ]
  },
  {
   "cell_type": "code",
   "execution_count": 74,
   "id": "e0c578e5",
   "metadata": {},
   "outputs": [],
   "source": [
    "direction_aa = \"positiva\" if corr_aa > 0 else 'negativa' \n",
    "direction_ab = \"positiva\" if corr_ab > 0 else 'negativa'\n",
    "direction_ac = \"positiva\" if corr_ac > 0 else 'negativa'\n"
   ]
  },
  {
   "cell_type": "code",
   "execution_count": 75,
   "id": "01201c90",
   "metadata": {},
   "outputs": [],
   "source": [
    "direction_ba = \"positiva\" if corr_ba > 0 else 'negativa' \n",
    "direction_bb = \"positiva\" if corr_bb > 0 else 'negativa'\n",
    "direction_bc = \"positiva\" if corr_bc > 0 else 'negativa'\n"
   ]
  },
  {
   "cell_type": "code",
   "execution_count": 76,
   "id": "e9231891",
   "metadata": {},
   "outputs": [],
   "source": [
    "direction_ca = \"positiva\" if corr_ca > 0 else 'negativa' \n",
    "direction_cb = \"positiva\" if corr_cb > 0 else 'negativa'\n",
    "direction_cc = \"positiva\" if corr_cc > 0 else 'negativa'\n"
   ]
  },
  {
   "cell_type": "code",
   "execution_count": 77,
   "id": "1ed6ee4a",
   "metadata": {},
   "outputs": [
    {
     "name": "stdout",
     "output_type": "stream",
     "text": [
      "Correlação entre A e A: 1.0 -  correlação positiva\n",
      "Correlação entre A e B: -0.68 - correlação negativa\n",
      "Correlação entre A e C: 0.99 - correlação positiva\n"
     ]
    }
   ],
   "source": [
    "print(f\"Correlação entre A e A: {round(corr_aa, 2)} -  correlação {direction_aa}\") \n",
    "print(f\"Correlação entre A e B: {round(corr_ab, 2)} - correlação {direction_ab}\")\n",
    "print(f\"Correlação entre A e C: {round(corr_ac, 2)} - correlação {direction_ac}\")"
   ]
  },
  {
   "cell_type": "code",
   "execution_count": 78,
   "id": "aa4ed426",
   "metadata": {},
   "outputs": [
    {
     "name": "stdout",
     "output_type": "stream",
     "text": [
      "Correlação entre B e A: -0.68 -  correlação negativa\n",
      "Correlação entre B e B: 1.0 - correlação positiva\n",
      "Correlação entre B e C: -0.77 - correlação negativa\n"
     ]
    }
   ],
   "source": [
    "print(f\"Correlação entre B e A: {round(corr_ba, 2)} -  correlação {direction_ba}\") \n",
    "print(f\"Correlação entre B e B: {round(corr_bb, 2)} - correlação {direction_bb}\")\n",
    "print(f\"Correlação entre B e C: {round(corr_bc, 2)} - correlação {direction_bc}\")"
   ]
  },
  {
   "cell_type": "code",
   "execution_count": 79,
   "id": "0a45e70b",
   "metadata": {},
   "outputs": [
    {
     "name": "stdout",
     "output_type": "stream",
     "text": [
      "Correlação entre C e A: 0.99 -  correlação positiva\n",
      "Correlação entre C e B: -0.77 - correlação negativa\n",
      "Correlação entre C e C: 1.0 - correlação positiva\n"
     ]
    }
   ],
   "source": [
    "print(f\"Correlação entre C e A: {round(corr_ca, 2)} -  correlação {direction_ca}\") \n",
    "print(f\"Correlação entre C e B: {round(corr_cb, 2)} - correlação {direction_cb}\")\n",
    "print(f\"Correlação entre C e C: {round(corr_cc, 2)} - correlação {direction_cc}\")"
   ]
  },
  {
   "cell_type": "markdown",
   "id": "d824f007",
   "metadata": {},
   "source": [
    "*Sem usar a biblioteca*\n",
    "\n"
   ]
  },
  {
   "cell_type": "code",
   "execution_count": null,
   "id": "76a3f9f9",
   "metadata": {},
   "outputs": [],
   "source": [
    "Correlação_aa = cov_aa/(desv_a**2)\n",
    "Correlação_ab = cov_ab/(desv_a*desv_b) \n",
    "Correlação_ac = cov_ac/(desv_a*desv_c)\n"
   ]
  },
  {
   "cell_type": "code",
   "execution_count": 86,
   "id": "45598c88",
   "metadata": {},
   "outputs": [],
   "source": [
    "Correlação_ba = cov_ba/(desv_b*desv_a)\n",
    "Correlação_bb = cov_bb/(desv_b**2) \n",
    "Correlação_bc = cov_bc/(desv_b*desv_c)"
   ]
  },
  {
   "cell_type": "code",
   "execution_count": 85,
   "id": "338d7436",
   "metadata": {},
   "outputs": [],
   "source": [
    "Correlação_ca = cov_ca/(desv_c*desv_a)\n",
    "Correlação_cb = cov_cb/(desv_c*desv_b) \n",
    "Correlação_cc = cov_cc/(desv_c**2)"
   ]
  },
  {
   "cell_type": "code",
   "execution_count": 87,
   "id": "4ff55836",
   "metadata": {},
   "outputs": [
    {
     "name": "stdout",
     "output_type": "stream",
     "text": [
      "Correlação entre A e A: 1.0 -  correlação positiva\n",
      "Correlação entre A e B: -0.68 - correlação negativa\n",
      "Correlação entre A e C: 0.99 - correlação positiva\n"
     ]
    }
   ],
   "source": [
    "print(f\"Correlação entre A e A: {round(corr_aa, 2)} -  correlação {direction_aa}\") \n",
    "print(f\"Correlação entre A e B: {round(corr_ab, 2)} - correlação {direction_ab}\")\n",
    "print(f\"Correlação entre A e C: {round(corr_ac, 2)} - correlação {direction_ac}\")\n"
   ]
  },
  {
   "cell_type": "code",
   "execution_count": 88,
   "id": "f4b1aac3",
   "metadata": {},
   "outputs": [
    {
     "name": "stdout",
     "output_type": "stream",
     "text": [
      "Correlação entre B e A: -0.68 -  correlação negativa\n",
      "Correlação entre B e B: 1.0 - correlação positiva\n",
      "Correlação entre B e C: -0.77 - correlação negativa\n"
     ]
    }
   ],
   "source": [
    "print(f\"Correlação entre B e A: {round(corr_ba, 2)} -  correlação {direction_ba}\") \n",
    "print(f\"Correlação entre B e B: {round(corr_bb, 2)} - correlação {direction_bb}\")\n",
    "print(f\"Correlação entre B e C: {round(corr_bc, 2)} - correlação {direction_bc}\")"
   ]
  },
  {
   "cell_type": "code",
   "execution_count": 89,
   "id": "a2d36b7b",
   "metadata": {},
   "outputs": [
    {
     "name": "stdout",
     "output_type": "stream",
     "text": [
      "Correlação entre C e A: 0.99 -  correlação positiva\n",
      "Correlação entre C e B: -0.77 - correlação negativa\n",
      "Correlação entre C e C: 1.0 - correlação positiva\n"
     ]
    }
   ],
   "source": [
    "print(f\"Correlação entre C e A: {round(corr_ca, 2)} -  correlação {direction_ca}\") \n",
    "print(f\"Correlação entre C e B: {round(corr_cb, 2)} - correlação {direction_cb}\")\n",
    "print(f\"Correlação entre C e C: {round(corr_cc, 2)} - correlação {direction_cc}\")"
   ]
  }
 ],
 "metadata": {
  "kernelspec": {
   "display_name": "base",
   "language": "python",
   "name": "python3"
  },
  "language_info": {
   "codemirror_mode": {
    "name": "ipython",
    "version": 3
   },
   "file_extension": ".py",
   "mimetype": "text/x-python",
   "name": "python",
   "nbconvert_exporter": "python",
   "pygments_lexer": "ipython3",
   "version": "3.13.5"
  }
 },
 "nbformat": 4,
 "nbformat_minor": 5
}
